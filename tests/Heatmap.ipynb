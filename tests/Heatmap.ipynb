{
 "cells": [
  {
   "cell_type": "code",
   "execution_count": 6,
   "metadata": {
    "collapsed": true
   },
   "outputs": [],
   "source": [
    "import matplotlib.pyplot as plt\n",
    "import numpy as np\n",
    "import PIL\n",
    "import PIL.Image\n",
    "from tqdm.notebook import tqdm\n",
    "import cv2\n",
    "import mss\n",
    "import time\n",
    "import os\n",
    "import sonaion_heatmaps as sh\n",
    "\n",
    "%matplotlib qt"
   ]
  },
  {
   "cell_type": "code",
   "execution_count": 10,
   "outputs": [],
   "source": [
    "image_data = PIL.Image.open('./BinarySearch.png')\n",
    "image_height, image_width = image_data.size\n",
    "x_coordinates = [0, 100, 200, 300, 400, 500, 600]\n",
    "y_coordinates = [0, 50, 100, 150, 200, 250, 300]\n",
    "valid = [True, True, True, True, True, True, True]\n",
    "time = [1.0, 1.5, 2.0, 3.5, 2.0, 1.5, 1.0]\n",
    "heatmap, heatmask, max_value = sh.heatmap_image(np.array(list(zip(x_coordinates, y_coordinates))), np.array(valid),\n",
    "                                                np.array(time), image_data, use_circle=True, circle_radius=100)\n",
    "fig, ax = plt.subplots(1, 3, figsize=(15, 5))\n",
    "ax[0].set_title('Heatmap')\n",
    "ax[0].imshow(heatmap)\n",
    "ax[1].set_title('Heatmask')\n",
    "ax[1].imshow(heatmask)\n",
    "ax[2].set_title('Heatmap with Color Bar')\n",
    "sm = plt.cm.ScalarMappable(cmap='jet', norm=plt.Normalize(vmin=0, vmax=max_value))\n",
    "ax[2].imshow(heatmap)\n",
    "fig.colorbar(sm, ax=ax[2])\n",
    "plt.show()"
   ],
   "metadata": {
    "collapsed": false,
    "pycharm": {
     "name": "#%%\n"
    }
   }
  },
  {
   "cell_type": "code",
   "execution_count": 7,
   "outputs": [
    {
     "name": "stdout",
     "output_type": "stream",
     "text": [
      "Recording Took 17.860573530197144 seconds\n",
      "Estimated Number of Frames: 535\n",
      "Actual Number of Frames: 201\n",
      "Corrected FPS: 11.25383793863989\n",
      "Number of Frames: 201.0\n"
     ]
    },
    {
     "data": {
      "text/plain": "  0%|          | 0/201.0 [00:00<?, ?it/s]",
      "application/vnd.jupyter.widget-view+json": {
       "version_major": 2,
       "version_minor": 0,
       "model_id": "4b4c9e1bb53a42df9ab8dae3872ba7ba"
      }
     },
     "metadata": {},
     "output_type": "display_data"
    }
   ],
   "source": [
    "# Video Recording\n",
    "monitor = 1\n",
    "file_name = 'output.mp4'\n",
    "tmp_file = \"./tmp_file.mp4\"\n",
    "\n",
    "with mss.mss() as scrs:\n",
    "    monitors = scrs.monitors\n",
    "    monitor = monitors[1]\n",
    "    screen_shot = scrs.grab(monitor)\n",
    "\n",
    "monitor_width = monitor['width']\n",
    "monitor_height = monitor['height']\n",
    "\n",
    "fps = 30\n",
    "fourcc = cv2.VideoWriter_fourcc(*\"XVID\")\n",
    "video_writer = cv2.VideoWriter(tmp_file, fourcc, fps, (monitor_width, monitor_height))\n",
    "\n",
    "start_time = time.time()\n",
    "number_of_frames = 0\n",
    "with mss.mss() as scrs:\n",
    "    while True:\n",
    "        if not video_writer.isOpened():\n",
    "            raise ValueError(\"Video output could not be opened\")\n",
    "        screen_shot = scrs.grab(monitor)\n",
    "        img = PIL.Image.frombytes('RGB', (screen_shot.width, screen_shot.height), screen_shot.rgb)\n",
    "        img = cv2.cvtColor(np.array(img), cv2.COLOR_RGB2BGR)\n",
    "        img = np.array(img)\n",
    "        video_writer.write(img)\n",
    "        number_of_frames += 1\n",
    "        if cv2.waitKey(25) & 0xFF == ord('q'):\n",
    "            break\n",
    "        cv2.imshow(\"Recording\", img)\n",
    "\n",
    "end_time = time.time()\n",
    "\n",
    "print(\"Recording Took {} seconds\".format(end_time - start_time))\n",
    "print(\"Estimated Number of Frames: {}\".format(int((end_time - start_time) * fps)))\n",
    "print(\"Actual Number of Frames: {}\".format(number_of_frames))\n",
    "actual_fps = number_of_frames\n",
    "estimated_fps = int((end_time - start_time) * fps)\n",
    "fps_corrected = actual_fps / (end_time - start_time)\n",
    "print(\"Corrected FPS: {}\".format(fps_corrected))\n",
    "video_writer.set(cv2.CAP_PROP_FPS, int(fps_corrected))\n",
    "cv2.destroyAllWindows()\n",
    "video_writer.release()\n",
    "\n",
    "video_capture = cv2.VideoCapture(tmp_file)\n",
    "video_writer = cv2.VideoWriter(file_name, fourcc, fps_corrected, (monitor_width, monitor_height))\n",
    "success, img = video_capture.read()\n",
    "number_of_frames = video_capture.get(cv2.CAP_PROP_FRAME_COUNT)\n",
    "print(\"Number of Frames: {}\".format(number_of_frames))\n",
    "frame_number = 0\n",
    "pbar = tqdm(total=number_of_frames)\n",
    "while success:\n",
    "    video_writer.write(img)\n",
    "    success, img = video_capture.read()\n",
    "    frame_number += 1\n",
    "    pbar.update(1)\n",
    "pbar.close()\n",
    "video_writer.release()\n",
    "del video_capture\n",
    "os.remove(tmp_file)"
   ],
   "metadata": {
    "collapsed": false,
    "pycharm": {
     "name": "#%%\n"
    }
   }
  },
  {
   "cell_type": "code",
   "execution_count": 9,
   "outputs": [
    {
     "data": {
      "text/plain": "array([ 0.,  4.,  8., 12., 16., 20., 24., 28., 32., 36.])"
     },
     "metadata": {},
     "output_type": "display_data"
    },
    {
     "data": {
      "text/plain": "  0%|          | 0/4466 [00:00<?, ?it/s]",
      "application/vnd.jupyter.widget-view+json": {
       "version_major": 2,
       "version_minor": 0,
       "model_id": "117850e5cd9a474399ad1820a0693861"
      }
     },
     "metadata": {},
     "output_type": "display_data"
    },
    {
     "data": {
      "text/plain": "True"
     },
     "execution_count": 9,
     "metadata": {},
     "output_type": "execute_result"
    }
   ],
   "source": [
    "import numpy as np\n",
    "import cv2\n",
    "\n",
    "cap = cv2.VideoCapture('./output.mp4')\n",
    "fps = cap.get(cv2.CAP_PROP_FPS)\n",
    "frame_count = cap.get(cv2.CAP_PROP_FRAME_COUNT)\n",
    "width = cap.get(cv2.CAP_PROP_FRAME_WIDTH)\n",
    "height = cap.get(cv2.CAP_PROP_FRAME_HEIGHT)\n",
    "total_time = frame_count / fps\n",
    "time = np.arange(0.0, total_time, 0.004)\n",
    "x_coordinate = np.sin(time) * width / 4 + width / 3\n",
    "y_coordinate = np.cos(time) * height / 4 + height / 3\n",
    "valid = np.array(np.ones(len(time)), dtype=bool)\n",
    "coordinates = np.array(list(zip(x_coordinate, y_coordinate)))\n",
    "time = time * 1000.0\n",
    "display(time[:10])\n",
    "sh.heatmap_video(coordinates, valid, time, cap, use_circle=True, circle_radius=50, blurr=True, blurr_sigma=10.0,\n",
    "                 key_out_threshold=0.1, tqdm=True, image_opacity=0.4, time_range=1000, skip_frames=100)"
   ],
   "metadata": {
    "collapsed": false,
    "pycharm": {
     "name": "#%%\n"
    }
   }
  },
  {
   "cell_type": "code",
   "execution_count": null,
   "outputs": [],
   "source": [],
   "metadata": {
    "collapsed": false,
    "pycharm": {
     "name": "#%%\n"
    }
   }
  }
 ],
 "metadata": {
  "kernelspec": {
   "display_name": "Python 3",
   "language": "python",
   "name": "python3"
  },
  "language_info": {
   "codemirror_mode": {
    "name": "ipython",
    "version": 2
   },
   "file_extension": ".py",
   "mimetype": "text/x-python",
   "name": "python",
   "nbconvert_exporter": "python",
   "pygments_lexer": "ipython2",
   "version": "2.7.6"
  }
 },
 "nbformat": 4,
 "nbformat_minor": 0
}